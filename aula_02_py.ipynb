{
  "nbformat": 4,
  "nbformat_minor": 0,
  "metadata": {
    "colab": {
      "provenance": [],
      "authorship_tag": "ABX9TyN/A6Mc9XmNgO3gHv3rfN1C",
      "include_colab_link": true
    },
    "kernelspec": {
      "name": "python3",
      "display_name": "Python 3"
    },
    "language_info": {
      "name": "python"
    }
  },
  "cells": [
    {
      "cell_type": "markdown",
      "metadata": {
        "id": "view-in-github",
        "colab_type": "text"
      },
      "source": [
        "<a href=\"https://colab.research.google.com/github/leandropclemente/aula02/blob/main/aula_02_py.ipynb\" target=\"_parent\"><img src=\"https://colab.research.google.com/assets/colab-badge.svg\" alt=\"Open In Colab\"/></a>"
      ]
    },
    {
      "cell_type": "code",
      "execution_count": null,
      "metadata": {
        "colab": {
          "base_uri": "https://localhost:8080/"
        },
        "id": "KJsjENEFFKWp",
        "outputId": "ea9a3e53-1c0c-40b9-9710-1be710e86087"
      },
      "outputs": [
        {
          "output_type": "stream",
          "name": "stdout",
          "text": [
            "1055\n"
          ]
        }
      ],
      "source": [
        "#1 crie um sistema que some 2 numeros:\n",
        "\n",
        "numero = \"10\"\n",
        "numero2 = \"55\"\n",
        "print(numero + numero2)\n",
        "\n",
        "\n",
        "#2 crie um sistema que imprima seu nome na tela\n",
        "\n",
        "# nome =  (\"leandro\")\n",
        "# print (nome)\n",
        "\n",
        "#3 crie um sistema que imprima seu nome e um cumprimento apos o nome:\n",
        "\n",
        "# text = input (\"digite um cumprimento\")\n",
        "# nome = input (\"digite seu nome - \")\n",
        "# print (\"ola tudo bem?\" , nome )\n",
        "\n",
        "#4 crie um sistema para multiplicar dois numeros\n",
        "\n",
        "# numero = 10\n",
        "# numero2 = 55\n",
        "# print(numero, * numero2)"
      ]
    }
  ]
}